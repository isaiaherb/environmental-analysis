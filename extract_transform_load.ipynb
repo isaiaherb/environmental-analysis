{
 "cells": [
  {
   "cell_type": "markdown",
   "id": "35c71913-ee84-45a8-b4f5-b74586d031a8",
   "metadata": {},
   "source": [
    "# Extracting, Transforming, and Loading Environmental Data into Postgresql"
   ]
  },
  {
   "cell_type": "code",
   "execution_count": 5,
   "id": "345af34d-d6d0-4fa6-875a-36dfafd1cff6",
   "metadata": {},
   "outputs": [],
   "source": [
    "# !pip install psycopg2 sqlalchemy"
   ]
  },
  {
   "cell_type": "code",
   "execution_count": 157,
   "id": "46432961-0340-4997-951f-a4c66ce50862",
   "metadata": {},
   "outputs": [],
   "source": [
    "import pandas as pd\n",
    "import numpy as np\n",
    "import psycopg2\n",
    "from sqlalchemy import create_engine, text"
   ]
  },
  {
   "cell_type": "markdown",
   "id": "7fc3dc6a-7600-4524-a1d6-016f1fdecc52",
   "metadata": {},
   "source": [
    "## Connect to Postgres Database"
   ]
  },
  {
   "cell_type": "code",
   "execution_count": 93,
   "id": "d72df8f2-35fb-4f6e-8859-55c3c990eebe",
   "metadata": {},
   "outputs": [],
   "source": [
    "db_name = \"environment\"\n",
    "db_user = \"isaiaherb\"\n",
    "db_password = \"sharkboy1\"\n",
    "db_host = \"localhost\"\n",
    "db_port = \"5432\"  \n",
    "engine = create_engine(f'postgresql+psycopg2://{db_user}:{db_password}@{db_host}:{db_port}/{db_name}')"
   ]
  },
  {
   "cell_type": "markdown",
   "id": "8b07de66-046f-4299-9d2e-40665feccc1d",
   "metadata": {},
   "source": [
    "## Extract "
   ]
  },
  {
   "cell_type": "code",
   "execution_count": 228,
   "id": "3447020f-5a26-45d6-a5e0-342636d19a53",
   "metadata": {},
   "outputs": [],
   "source": [
    "df1 = pd.read_csv('Agricultural Land.csv')\n",
    "df2 = pd.read_csv('co2_emissions_kt_by_country.csv')\n",
    "df3 = pd.read_csv('CO2_Emissions.csv')\n",
    "df4 = pd.read_csv('Consumption of fertilizers per unit of agricultural land area.csv')\n",
    "df5 = pd.read_csv('Forest Area.csv')\n",
    "df6 = pd.read_csv('Governance.csv')\n",
    "df7 = pd.read_csv('Public Water Supply.csv')\n",
    "df8 = pd.read_csv('Terrestrial protected areas.csv')"
   ]
  },
  {
   "cell_type": "markdown",
   "id": "16325381-f25b-494c-b2bb-896f49046f21",
   "metadata": {},
   "source": [
    "## Transform and Load "
   ]
  },
  {
   "cell_type": "code",
   "execution_count": 229,
   "id": "834e3b2a-45e7-4e0d-a644-ed16feac1646",
   "metadata": {},
   "outputs": [],
   "source": [
    "def clean_int(value):\n",
    "    try:\n",
    "        return int(value.replace(' ', ''))\n",
    "    except (ValueError, AttributeError):\n",
    "        return None"
   ]
  },
  {
   "cell_type": "markdown",
   "id": "4768bdc3-d787-4902-950a-a4afc74215b2",
   "metadata": {},
   "source": [
    "### Country  "
   ]
  },
  {
   "cell_type": "code",
   "execution_count": 232,
   "id": "95fdcf54-6d0c-4593-8b7a-84e50e710f48",
   "metadata": {},
   "outputs": [],
   "source": [
    "dataframes = [df1, df2, df3, df4, df5, df6, df7, df8]\n",
    "unique_countries = set()\n",
    "for df in dataframes:\n",
    "    if 'country_name' in df.columns:\n",
    "        unique_countries.update(df['country_name'].unique())\n",
    "    elif 'Country' in df.columns:\n",
    "        unique_countries.update(df['Country'].unique())\n",
    "\n",
    "df_country = pd.DataFrame({'country_name': list(unique_countries)})\n",
    "\n",
    "df_country.sort_values(by='country_name', inplace=True)\n",
    "df_country.reset_index(drop=True, inplace=True)"
   ]
  },
  {
   "cell_type": "code",
   "execution_count": 233,
   "id": "4997cd6d-968e-40c0-a3c5-a19e660b1770",
   "metadata": {},
   "outputs": [
    {
     "name": "stdout",
     "output_type": "stream",
     "text": [
      "Data loaded into 'country' table successfully.\n"
     ]
    }
   ],
   "source": [
    "with engine.connect() as conn:\n",
    "    try:\n",
    "        for index, row in df_country.iterrows():\n",
    "            conn.execute(\n",
    "                text(\"INSERT INTO country (country_name) VALUES (:country_name) ON CONFLICT (country_name) DO NOTHING\"),\n",
    "                {\"country_name\": row['country_name']}\n",
    "            )\n",
    "        print(\"Data loaded into 'country' table successfully.\")\n",
    "    except Exception as e:\n",
    "        print(f\"Error: {e}\")"
   ]
  },
  {
   "cell_type": "markdown",
   "id": "b6d7c1c5-009d-4322-8f3e-32bf586ba3ec",
   "metadata": {},
   "source": [
    "### Agriculture"
   ]
  },
  {
   "cell_type": "code",
   "execution_count": 235,
   "id": "96e660c2-31b9-4a13-8603-9b38abb850f3",
   "metadata": {},
   "outputs": [],
   "source": [
    "new_names = {'Country': 'country_name', \n",
    "             'Agricultural area in 2013 (km2)': 'total_area_2013', \n",
    "             '% change of agricultural area since 1990': 'total_area_percent_change_since_1990',\n",
    "             '% of total land area covered by agricultural area in 2013':'percent_total_land_covered_by_agriculture_2013',\n",
    "             'Arable land in 2013 (km2)':'arable_land_2013',\n",
    "             'Permanent crops in 2013 (km2)':'permanent_crops_2013',\n",
    "             'Permanent meadows and pastures in 2013 (km2)':'permanent_meadows_pastures_2013',\n",
    "             'Agricultural area actually irrigated in 2013 (km2)':'agricultural_area_actually_irrigated_2013',\n",
    "            }\n",
    "df1.rename(columns=new_names, inplace=True)"
   ]
  },
  {
   "cell_type": "code",
   "execution_count": 237,
   "id": "ffe676b4-1ddf-44d7-bd75-fb3dd2fcecba",
   "metadata": {},
   "outputs": [
    {
     "name": "stdout",
     "output_type": "stream",
     "text": [
      "Data loaded into 'agricultural_land' table successfully.\n"
     ]
    }
   ],
   "source": [
    "with engine.connect() as conn:\n",
    "    try:\n",
    "        for index, row in df1.iterrows():\n",
    "            conn.execute(\n",
    "                text(\"INSERT INTO agricultural_land (country_name, total_area_2013, total_area_percent_change_since_1990, percent_total_land_covered_by_agriculture_2013, arable_land_2013, permanent_crops_2013, permanent_meadows_pastures_2013, agricultural_area_actually_irrigated_2013) VALUES (:country_name, :total_area_2013, :total_area_percent_change_since_1990, :percent_total_land_covered_by_agriculture_2013, :arable_land_2013, :permanent_crops_2013, :permanent_meadows_pastures_2013, :agricultural_area_actually_irrigated_2013)\"),\n",
    "                {\n",
    "                    \"country_name\": row['country_name'],\n",
    "                    \"total_area_2013\": row['total_area_2013'],\n",
    "                    \"total_area_percent_change_since_1990\": row['total_area_percent_change_since_1990'],\n",
    "                    \"percent_total_land_covered_by_agriculture_2013\": row['percent_total_land_covered_by_agriculture_2013'],\n",
    "                    \"arable_land_2013\": row['arable_land_2013'],\n",
    "                    \"permanent_crops_2013\": row['permanent_crops_2013'],\n",
    "                    \"permanent_meadows_pastures_2013\": row['permanent_meadows_pastures_2013'],\n",
    "                    \"agricultural_area_actually_irrigated_2013\": row['agricultural_area_actually_irrigated_2013']\n",
    "                }\n",
    "            )\n",
    "        print(\"Data loaded into 'agricultural_land' table successfully.\")\n",
    "    except Exception as e:\n",
    "        print(f\"Error: {e}\")"
   ]
  },
  {
   "cell_type": "markdown",
   "id": "31da74ca-6892-451c-897c-95536d0e74c0",
   "metadata": {},
   "source": [
    "### CO2 Emissions "
   ]
  },
  {
   "cell_type": "code",
   "execution_count": 238,
   "id": "b7eb7a5a-05f7-4e03-985b-d61b73612bd6",
   "metadata": {},
   "outputs": [
    {
     "name": "stdout",
     "output_type": "stream",
     "text": [
      "Data loaded into 'co2_emissions' table successfully.\n"
     ]
    }
   ],
   "source": [
    "with engine.connect() as conn:\n",
    "    try:\n",
    "        for index, row in df2.iterrows():\n",
    "            conn.execute(\n",
    "                text(\"INSERT INTO co2_emissions (country_name, year, value) VALUES (:country_name, :year, :value)\"),\n",
    "                {\"country_name\": row['country_name'],\n",
    "                 \"year\": row['year'],\n",
    "                 \"value\": row['value']\n",
    "                }\n",
    "            )\n",
    "        print(\"Data loaded into 'co2_emissions' table successfully.\")\n",
    "    except Exception as e:\n",
    "        print(f\"Error: {e}\")"
   ]
  },
  {
   "cell_type": "markdown",
   "id": "f53afeaf-03b0-4090-9034-27a80bf18b9a",
   "metadata": {},
   "source": [
    "### CO2 Emissions Descriptive"
   ]
  },
  {
   "cell_type": "code",
   "execution_count": 239,
   "id": "8f4a58df-915a-4940-ba02-1c008a742ca6",
   "metadata": {},
   "outputs": [],
   "source": [
    "df3 = df3.drop(columns=['Unnamed: 3','Unnamed: 4','Unnamed: 5',\n",
    "                        'Unnamed: 6','Unnamed: 7','Unnamed: 8',\n",
    "                        'Unnamed: 9','Unnamed: 10','Unnamed: 11',\n",
    "                        'Unnamed: 12','Unnamed: 13','Unnamed: 14',\n",
    "                        'Unnamed: 15','Unnamed: 16','Unnamed: 17',\n",
    "                        'Unnamed: 18','Unnamed: 19','Unnamed: 20',\n",
    "                        'Unnamed: 21','Unnamed: 22','Unnamed: 23',\n",
    "                        'Unnamed: 24','Unnamed: 25','Unnamed: 26',\n",
    "                        'Unnamed: 27','Unnamed: 28','Unnamed: 29',\n",
    "                        'Unnamed: 30','Unnamed: 31'],axis=1)\n",
    "df3 = df3.iloc[1:]"
   ]
  },
  {
   "cell_type": "code",
   "execution_count": 240,
   "id": "73040247-5d48-4bb5-9e2e-fb5658815d0c",
   "metadata": {},
   "outputs": [],
   "source": [
    "new_names = {\n",
    "    'Country':'country_name',\n",
    "    'CO2 emissions, latest year':'co2_emissions_latest_year',\n",
    "    '% change since 1990':'percent_change_since_1990',\n",
    "    'CO2 emissions \\nper capita, \\nlatest year':'co2_emissions_per_capita_latest_year'}\n",
    "df3.rename(columns=new_names, inplace=True)"
   ]
  },
  {
   "cell_type": "code",
   "execution_count": 243,
   "id": "defaba3b-32ba-40bb-9728-2423f86294ea",
   "metadata": {},
   "outputs": [
    {
     "name": "stdout",
     "output_type": "stream",
     "text": [
      "Data loaded into 'co2_emissions_add' table successfully.\n"
     ]
    }
   ],
   "source": [
    "with engine.connect() as conn:\n",
    "    try:\n",
    "        for index, row in df3.iterrows():\n",
    "            conn.execute(\n",
    "                text(\"INSERT INTO co2_emissions_add (country_name, co2_emissions_latest_year, percent_change_since_1990, co2_emissions_per_capita_latest_year) VALUES (:country_name, :co2_emissions_latest_year, :percent_change_since_1990, :co2_emissions_per_capita_latest_year)\"),\n",
    "                {\"country_name\": row['country_name'],\n",
    "                \"co2_emissions_latest_year\": row['co2_emissions_latest_year'],\n",
    "                \"percent_change_since_1990\":row['percent_change_since_1990'], \n",
    "                \"co2_emissions_per_capita_latest_year\": row['co2_emissions_per_capita_latest_year']\n",
    "                }\n",
    "            )\n",
    "        print(\"Data loaded into 'co2_emissions_add' table successfully.\")\n",
    "    except Exception as e:\n",
    "        print(f\"Error: {e}\")"
   ]
  },
  {
   "cell_type": "markdown",
   "id": "20ddd21f-f88e-41e0-a322-a3f072cf4650",
   "metadata": {},
   "source": [
    "### Fertilizer Consumption"
   ]
  },
  {
   "cell_type": "code",
   "execution_count": 244,
   "id": "aeaaa065-d07b-4453-ae13-eb323aec4bfe",
   "metadata": {},
   "outputs": [],
   "source": [
    "new_names = {\n",
    "    'Country': 'country_name',\n",
    "    'Nitrogen': 'nitrogen',\n",
    "    'Phosphate': 'phosphate',\n",
    "    'Potash': 'potash'\n",
    "}\n",
    "df4.rename(columns=new_names, inplace=True)"
   ]
  },
  {
   "cell_type": "code",
   "execution_count": 245,
   "id": "d3607229-c137-4cea-8122-cce06febad97",
   "metadata": {},
   "outputs": [
    {
     "name": "stdout",
     "output_type": "stream",
     "text": [
      "Data loaded into 'fertilizer_consumption' table successfully.\n"
     ]
    }
   ],
   "source": [
    "with engine.connect() as conn:\n",
    "    try:\n",
    "        for index, row in df4.iterrows():\n",
    "            conn.execute(\n",
    "                text(\"INSERT INTO fertilizer_consumption (country_name, nitrogen, phosphate, potash) VALUES (:country_name, :nitrogen, :phosphate, :potash)\"),\n",
    "                {\n",
    "                    \"country_name\": row['country_name'],\n",
    "                    \"nitrogen\": row['nitrogen'],\n",
    "                    \"phosphate\": row['phosphate'],\n",
    "                    \"potash\": row['potash']\n",
    "                }\n",
    "            )\n",
    "        print(\"Data loaded into 'fertilizer_consumption' table successfully.\")\n",
    "    except Exception as e:\n",
    "        print(f\"Error: {e}\")"
   ]
  },
  {
   "cell_type": "markdown",
   "id": "8e9af198-a5bf-4e43-9af5-3a07fb0975dc",
   "metadata": {},
   "source": [
    "### Forest"
   ]
  },
  {
   "cell_type": "code",
   "execution_count": 266,
   "id": "5b22bf1a-da92-4327-824f-3d5e8f936cca",
   "metadata": {},
   "outputs": [],
   "source": [
    "new_names = {\n",
    "    'Country and Area': 'country_name',\n",
    "    'Forest Area, 1990 (1000 ha)':'forest_area_1990_ha',\n",
    "    'Forest Area, 2000 (1000 ha)':'forest_area_2000_ha',\n",
    "    'Forest Area, 2010 (1000 ha)':'forest_area_2010_ha',\n",
    "    'Forest Area, 2015 (1000 ha)':'forest_area_2015_ha',\n",
    "    'Forest Area, 2020 (1000 ha)':'forest_area_2020_ha',\n",
    "    'Total Land Area, 2020 (1000 ha)':'total_land_area_2020_ha',\n",
    "    'Forest Area as a  Proportion of (%)\\nTotal Land Area, 2020':'forest_area_proportion_total_land_area_2020',\n",
    "    'Deforestation, \\n2015-2020 (1000 ha/year)':'deforestation_2015_2020_ha_per_year',\n",
    "    'Total Forest Area \\nAffected by Fire, 2015 (1000 ha)':'total_forest_area_affected_by_fire_2015_ha'\n",
    "}\n",
    "df5.rename(columns=new_names,inplace=True)"
   ]
  },
  {
   "cell_type": "code",
   "execution_count": 276,
   "id": "0587a340-49bb-41b0-8bb6-ef0feb8ca6a5",
   "metadata": {},
   "outputs": [
    {
     "name": "stdout",
     "output_type": "stream",
     "text": [
      "Data loaded into 'forest_area' table successfully.\n"
     ]
    }
   ],
   "source": [
    "with engine.connect() as conn:\n",
    "    try:\n",
    "        for index, row in df5.iterrows():\n",
    "            conn.execute(\n",
    "                text(\"INSERT INTO forest_area (country_name, forest_area_1990_ha, forest_area_2000_ha, forest_area_2010_ha, forest_area_2015_ha, forest_area_2020_ha, total_land_area_2020_ha, forest_area_proportion_total_land_area_2020, deforestation_2015_2020_ha_per_year, total_forest_area_affected_by_fire_2015_ha) VALUES (:country_name, :forest_area_1990_ha, :forest_area_2000_ha, :forest_area_2010_ha, :forest_area_2015_ha, :forest_area_2020_ha, :total_land_area_2020_ha, :forest_area_proportion_total_land_area_2020, :deforestation_2015_2020_ha_per_year, :total_forest_area_affected_by_fire_2015_ha)\"),\n",
    "                {\n",
    "                    \"country_name\": row['country_name'],\n",
    "                    \"forest_area_1990_ha\": row['forest_area_1990_ha'],\n",
    "                    \"forest_area_2000_ha\": row['forest_area_2000_ha'],\n",
    "                    \"forest_area_2010_ha\": row['forest_area_2010_ha'],\n",
    "                    \"forest_area_2015_ha\": row['forest_area_2015_ha'],\n",
    "                    \"forest_area_2020_ha\": row['forest_area_2020_ha'],\n",
    "                    \"total_land_area_2020_ha\": row['total_land_area_2020_ha'],\n",
    "                    \"forest_area_proportion_total_land_area_2020\": row['forest_area_proportion_total_land_area_2020'],\n",
    "                    \"deforestation_2015_2020_ha_per_year\": row['deforestation_2015_2020_ha_per_year'],\n",
    "                    \"total_forest_area_affected_by_fire_2015_ha\": row['total_forest_area_affected_by_fire_2015_ha']\n",
    "                }\n",
    "            )\n",
    "        print(\"Data loaded into 'forest_area' table successfully.\")\n",
    "    except Exception as e:\n",
    "        print(f\"Error: {e}\")"
   ]
  },
  {
   "cell_type": "markdown",
   "id": "08288e69-6139-417a-84f2-025bb553e2eb",
   "metadata": {},
   "source": [
    "### Governance"
   ]
  },
  {
   "cell_type": "code",
   "execution_count": 251,
   "id": "113d6f73-ff65-499a-bd0c-a1ac5bd58888",
   "metadata": {},
   "outputs": [],
   "source": [
    "new_names = {\n",
    "    'Country and area': 'country_name',\n",
    "    'Basel Convention': 'basel_convention',\n",
    "    'CITES': 'cites',\n",
    "    'Convention on Biological Diversity': 'convention_on_biological_diversity',\n",
    "    'Convention on Migratory Species': 'convention_on_migratory_species',\n",
    "    'Kyoto \\nProtocol': 'kyoto_protocol',\n",
    "    'Montreal Protocol': 'montreal_protocol',\n",
    "    'Paris Agreement': 'paris_agreement',\n",
    "    'Ramsar Convention': 'ramsar_convention',\n",
    "    'Rotterdam Convention': 'rotterdam_convention',\n",
    "    'Stockholm Convention': 'stockholm_convention',\n",
    "    'UN Convention on the Law of the Sea': 'un_convention_on_the_law_of_the_sea',\n",
    "    'UN Convention to Combat Desertification': 'un_convention_to_combat_desertification',\n",
    "    'UN Framework Convention on Climate Change': 'un_framework_convention_on_climate_change',\n",
    "    'World \\nHeritage Convention': 'world_heritage_convention'\n",
    "}\n",
    "\n",
    "df6.rename(columns=new_names, inplace=True)"
   ]
  },
  {
   "cell_type": "code",
   "execution_count": 252,
   "id": "7f4d3021-dd55-45c7-8018-f1647e77788a",
   "metadata": {},
   "outputs": [
    {
     "name": "stdout",
     "output_type": "stream",
     "text": [
      "Data loaded into 'governance' table successfully.\n"
     ]
    }
   ],
   "source": [
    "with engine.connect() as conn:\n",
    "    try:\n",
    "        for index, row in df6.iterrows():\n",
    "            conn.execute(\n",
    "                text(\"INSERT INTO governance (country_name, basel_convention, cites, convention_on_biological_diversity, convention_on_migratory_species, kyoto_protocol, montreal_protocol, paris_agreement, ramsar_convention, rotterdam_convention, stockholm_convention, un_convention_on_the_law_of_the_sea, un_convention_to_combat_desertification, un_framework_convention_on_climate_change, world_heritage_convention) VALUES (:country_name, :basel_convention, :cites, :convention_on_biological_diversity, :convention_on_migratory_species, :kyoto_protocol, :montreal_protocol, :paris_agreement, :ramsar_convention, :rotterdam_convention, :stockholm_convention, :un_convention_on_the_law_of_the_sea, :un_convention_to_combat_desertification, :un_framework_convention_on_climate_change, :world_heritage_convention)\"),\n",
    "                {\n",
    "                    \"country_name\": row['country_name'],\n",
    "                    \"basel_convention\": row['basel_convention'],\n",
    "                    \"cites\": row['cites'],\n",
    "                    \"convention_on_biological_diversity\": row['convention_on_biological_diversity'],\n",
    "                    \"convention_on_migratory_species\": row['convention_on_migratory_species'],\n",
    "                    \"kyoto_protocol\": row['kyoto_protocol'],\n",
    "                    \"montreal_protocol\": row['montreal_protocol'],\n",
    "                    \"paris_agreement\": row['paris_agreement'],\n",
    "                    \"ramsar_convention\": row['ramsar_convention'],\n",
    "                    \"rotterdam_convention\": row['rotterdam_convention'],\n",
    "                    \"stockholm_convention\": row['stockholm_convention'],\n",
    "                    \"un_convention_on_the_law_of_the_sea\": row['un_convention_on_the_law_of_the_sea'],\n",
    "                    \"un_convention_to_combat_desertification\": row['un_convention_to_combat_desertification'],\n",
    "                    \"un_framework_convention_on_climate_change\": row['un_framework_convention_on_climate_change'],\n",
    "                    \"world_heritage_convention\": row['world_heritage_convention']\n",
    "                }\n",
    "            )\n",
    "        print(\"Data loaded into 'governance' table successfully.\")\n",
    "    except Exception as e:\n",
    "        print(f\"Error: {e}\")"
   ]
  },
  {
   "cell_type": "markdown",
   "id": "84d52d78-fcce-4ac7-afba-0811519c7e22",
   "metadata": {},
   "source": [
    "### Water Supply"
   ]
  },
  {
   "cell_type": "code",
   "execution_count": 253,
   "id": "be10dfb2-7b19-4d6d-a759-43d87bcfdcaf",
   "metadata": {},
   "outputs": [],
   "source": [
    "new_names = {\n",
    "    'Country': 'country_name',\n",
    "    'latest year available': 'latest_year_available',\n",
    "    'Net freshwater supplied by water supply industry (mio m3)': 'net_freshwater_supplied_by_water_supply_industry_mio_m3',\n",
    "    'Net freshwater supplied by water supply industry per capita (m3)': 'net_freshwater_supplied_by_water_supply_industry_per_capita_m3',\n",
    "    'latest year available.1': 'latest_year_available_1',\n",
    "    'Total population supplied by water supply industry (%)': 'total_population_supplied_by_water_supply_industry_percent',\n",
    "    'Net freshwater supplied by water supply industry per capita connected (m3)': 'net_freshwater_supplied_by_water_supply_industry_per_capita'\n",
    "}\n",
    "\n",
    "df7.drop(columns=[col for col in df7.columns if 'Footnotes' in col], inplace=True)\n",
    "\n",
    "df7.rename(columns=new_names, inplace=True)"
   ]
  },
  {
   "cell_type": "code",
   "execution_count": 254,
   "id": "d40beead-7fbe-44aa-9fe2-e06226971688",
   "metadata": {},
   "outputs": [
    {
     "name": "stdout",
     "output_type": "stream",
     "text": [
      "Data loaded into 'water_supply' table successfully.\n"
     ]
    }
   ],
   "source": [
    "with engine.connect() as conn:\n",
    "    try:\n",
    "        for index, row in df7.iterrows():\n",
    "            conn.execute(\n",
    "                text(\"INSERT INTO water_supply (country_name, latest_year_available, net_freshwater_supplied_by_water_supply_industry_mio_m3, net_freshwater_supplied_by_water_supply_industry_per_capita_m3, total_population_supplied_by_water_supply_industry_percent, net_freshwater_supplied_by_water_supply_industry_per_capita) VALUES (:country_name, :latest_year_available, :net_freshwater_supplied_by_water_supply_industry_mio_m3, :net_freshwater_supplied_by_water_supply_industry_per_capita_m3, :total_population_supplied_by_water_supply_industry_percent, :net_freshwater_supplied_by_water_supply_industry_per_capita)\"),\n",
    "                {\n",
    "                    \"country_name\": row['country_name'],\n",
    "                    \"latest_year_available\": row['latest_year_available'],\n",
    "                    \"net_freshwater_supplied_by_water_supply_industry_mio_m3\": row['net_freshwater_supplied_by_water_supply_industry_mio_m3'],\n",
    "                    \"net_freshwater_supplied_by_water_supply_industry_per_capita_m3\": row['net_freshwater_supplied_by_water_supply_industry_per_capita_m3'],\n",
    "                    \"total_population_supplied_by_water_supply_industry_percent\": row['total_population_supplied_by_water_supply_industry_percent'],\n",
    "                    \"net_freshwater_supplied_by_water_supply_industry_per_capita\": row['net_freshwater_supplied_by_water_supply_industry_per_capita']\n",
    "                }\n",
    "            )\n",
    "        print(\"Data loaded into 'water_supply' table successfully.\")\n",
    "    except Exception as e:\n",
    "        print(f\"Error: {e}\")"
   ]
  },
  {
   "cell_type": "markdown",
   "id": "9c77b99e-a39c-4938-970e-583c6703f81a",
   "metadata": {},
   "source": [
    "### Protected Areas"
   ]
  },
  {
   "cell_type": "code",
   "execution_count": 255,
   "id": "10f8ce11-c77f-4305-9f5c-b3347b310933",
   "metadata": {},
   "outputs": [],
   "source": [
    "new_names = {\n",
    "    'Country and area': 'country_name',\n",
    "    'latest year available': 'latest_year_available',\n",
    "    'Terrestrial protected areas': 'percent_protected_areas'\n",
    "}\n",
    "df8.rename(columns=new_names, inplace=True)"
   ]
  },
  {
   "cell_type": "code",
   "execution_count": 260,
   "id": "14a25e34-5dc3-4196-8ad3-cc2a008cd5c3",
   "metadata": {},
   "outputs": [
    {
     "name": "stdout",
     "output_type": "stream",
     "text": [
      "Data loaded into 'protected_areas' table successfully.\n"
     ]
    }
   ],
   "source": [
    "with engine.connect() as conn:\n",
    "    try:\n",
    "        for index, row in df8.iterrows():\n",
    "            conn.execute(\n",
    "                text(\"INSERT INTO protected_areas (country_name, latest_year_available, percent_protected_areas) VALUES (:country_name, :latest_year_available, :percent_protected_areas)\"),\n",
    "                {\n",
    "                    \"country_name\": row['country_name'],\n",
    "                    \"latest_year_available\": row['latest_year_available'],\n",
    "                    \"percent_protected_areas\": row['percent_protected_areas']\n",
    "                }\n",
    "            )\n",
    "        print(\"Data loaded into 'protected_areas' table successfully.\")\n",
    "    except Exception as e:\n",
    "        print(f\"Error: {e}\")"
   ]
  },
  {
   "cell_type": "code",
   "execution_count": null,
   "id": "36410f7c-ad03-400d-9168-6d1ec3fd0f0e",
   "metadata": {},
   "outputs": [],
   "source": [
    "conn.close()\n",
    "print(\"PostgreSQL connection is closed.\")"
   ]
  }
 ],
 "metadata": {
  "kernelspec": {
   "display_name": "Python 3 (ipykernel)",
   "language": "python",
   "name": "python3"
  },
  "language_info": {
   "codemirror_mode": {
    "name": "ipython",
    "version": 3
   },
   "file_extension": ".py",
   "mimetype": "text/x-python",
   "name": "python",
   "nbconvert_exporter": "python",
   "pygments_lexer": "ipython3",
   "version": "3.9.7"
  }
 },
 "nbformat": 4,
 "nbformat_minor": 5
}
